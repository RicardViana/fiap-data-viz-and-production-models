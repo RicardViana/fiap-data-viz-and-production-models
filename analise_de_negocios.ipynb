{
 "cells": [
  {
   "cell_type": "markdown",
   "id": "89d6ca84",
   "metadata": {},
   "source": [
    "#### **Análise de negócios**"
   ]
  },
  {
   "cell_type": "markdown",
   "id": "4580d69f",
   "metadata": {},
   "source": [
    "#### **Observações**"
   ]
  },
  {
   "cell_type": "markdown",
   "id": "dd59115f",
   "metadata": {},
   "source": [
    "#### **Conteúdo - Bases e Notebook da aula**\n",
    "\n",
    "Github:  \n",
    "\n",
    "https://github.com/FIAP/Pos_Tech_DTAT/tree/Analise-de-Negocios/Analise%20de%20Negocios  \n",
    "\n",
    "Série Histórica de Preços de Combustíveis e de GLP:  \n",
    "\n",
    "https://www.gov.br/anp/pt-br/centrais-de-conteudo/dados-abertos/serie-historica-de-precos-de-combustiveis"
   ]
  },
  {
   "cell_type": "markdown",
   "id": "a770d68e",
   "metadata": {},
   "source": [
    "#### **Importação de pacotes, bibliotecas e funções (def)**"
   ]
  },
  {
   "cell_type": "code",
   "execution_count": 1,
   "id": "d7e53e7c",
   "metadata": {},
   "outputs": [],
   "source": [
    "# Importar biblioteca completa\n",
    "import pandas as pd\n",
    "import os\n",
    "import requests\n",
    "import zipfile\n",
    "from time import sleep\n",
    "\n",
    "# Importar algo especifico de uma biblioteca\n",
    "from dotenv import load_dotenv"
   ]
  },
  {
   "cell_type": "code",
   "execution_count": 2,
   "id": "a7ddf2a7",
   "metadata": {},
   "outputs": [],
   "source": [
    "load_dotenv()\n",
    "\n",
    "# Credenciais do PostgreSQL\n",
    "usuario_pg = os.getenv(\"POSTGRES_USER\")\n",
    "senha_pg = os.getenv(\"POSTGRES_PASSWORD\")\n",
    "host_pg = os.getenv(\"POSTGRES_HOST\")\n",
    "porta_pg = os.getenv(\"POSTGRES_PORT\")\n",
    "banco_pg = os.getenv(\"POSTGRES_DB\")\n"
   ]
  },
  {
   "cell_type": "markdown",
   "id": "3d70f28a",
   "metadata": {},
   "source": [
    "#### **Aula 1 - Processos e formas de análise**"
   ]
  },
  {
   "cell_type": "markdown",
   "id": "dc4ed4ab",
   "metadata": {},
   "source": [
    "#### **Aula 2 - Ligação com bancos de dados**"
   ]
  },
  {
   "cell_type": "code",
   "execution_count": null,
   "id": "c201d07d",
   "metadata": {},
   "outputs": [
    {
     "name": "stdout",
     "output_type": "stream",
     "text": [
      "\n",
      "Baixando ca-2020-01.zip...\n",
      "🔽 Tentando baixar ZIP: ca-2020-01.zip\n",
      "🟡 ZIP não encontrado, tentando CSV: ca-2020-01.csv\n",
      "✔ Download concluído (CSV): ca-2020-01.csv\n",
      "\n",
      "\n",
      "Baixando ca-2020-02.zip...\n",
      "🔽 Tentando baixar ZIP: ca-2020-02.zip\n",
      "🟡 ZIP não encontrado, tentando CSV: ca-2020-02.csv\n",
      "✔ Download concluído (CSV): ca-2020-02.csv\n",
      "\n",
      "\n",
      "Baixando ca-2021-01.zip...\n",
      "🔽 Tentando baixar ZIP: ca-2021-01.zip\n",
      "🟡 ZIP não encontrado, tentando CSV: ca-2021-01.csv\n",
      "✔ Download concluído (CSV): ca-2021-01.csv\n",
      "\n",
      "\n",
      "Baixando ca-2021-02.zip...\n",
      "🔽 Tentando baixar ZIP: ca-2021-02.zip\n",
      "🟡 ZIP não encontrado, tentando CSV: ca-2021-02.csv\n",
      "✔ Download concluído (CSV): ca-2021-02.csv\n",
      "\n",
      "\n",
      "Baixando precos-semestrais-ca.zip...\n",
      "🔽 Tentando baixar ZIP: precos-semestrais-ca.zip\n",
      "📦 Arquivo extraído: precos-semestrais-ca.zip\n",
      "\n",
      "\n",
      "Baixando ca-2022-02.zip...\n",
      "🔽 Tentando baixar ZIP: ca-2022-02.zip\n",
      "📦 Arquivo extraído: ca-2022-02.zip\n",
      "\n",
      "\n",
      "Baixando ca-2023-01.zip...\n",
      "🔽 Tentando baixar ZIP: ca-2023-01.zip\n",
      "📦 Arquivo extraído: ca-2023-01.zip\n",
      "\n",
      "\n",
      "Baixando ca-2023-02.zip...\n",
      "🔽 Tentando baixar ZIP: ca-2023-02.zip\n",
      "📦 Arquivo extraído: ca-2023-02.zip\n",
      "\n",
      "\n",
      "Baixando ca-2024-01.zip...\n",
      "🔽 Tentando baixar ZIP: ca-2024-01.zip\n",
      "📦 Arquivo extraído: ca-2024-01.zip\n",
      "\n",
      "\n",
      "Baixando ca-2024-02.zip...\n",
      "🔽 Tentando baixar ZIP: ca-2024-02.zip\n",
      "📦 Arquivo extraído: ca-2024-02.zip\n",
      "\n"
     ]
    }
   ],
   "source": [
    "# Parâmetros\n",
    "anos = range(2020, 2025)\n",
    "periodos = [\"01\", \"02\"]\n",
    "base_url = \"https://www.gov.br/anp/pt-br/centrais-de-conteudo/dados-abertos/arquivos/shpc/dsas/ca/\"\n",
    "pasta_destino = \"combustiveis_automotivos\"\n",
    "\n",
    "os.makedirs(pasta_destino, exist_ok=True)\n",
    "\n",
    "# Geração de URLs com exceção para 2022-01\n",
    "urls = []\n",
    "for ano in anos:\n",
    "    for p in periodos:\n",
    "        if ano == 2022 and p == \"01\":\n",
    "            urls.append(f\"{base_url}precos-semestrais-ca.zip\")\n",
    "        else:\n",
    "            urls.append(f\"{base_url}ca-{ano}-{p}.zip\")\n",
    "\n",
    "# Função auxiliar com retry\n",
    "def baixar_com_retry(url, caminho, tentativas=3):\n",
    "    for tentativa in range(1, tentativas + 1):\n",
    "        try:\n",
    "            with requests.get(url, stream=True, timeout=120) as r:\n",
    "                if r.status_code == 404:\n",
    "                    return None\n",
    "                r.raise_for_status()\n",
    "                total = int(r.headers.get('content-length', 0))\n",
    "                baixado = 0\n",
    "                with open(caminho, \"wb\") as f:\n",
    "                    for chunk in r.iter_content(chunk_size=8192):\n",
    "                        if chunk:\n",
    "                            f.write(chunk)\n",
    "                            baixado += len(chunk)\n",
    "                # Verifica se o tamanho baixado é próximo do esperado\n",
    "                if total > 0 and baixado < total * 0.9:\n",
    "                    raise Exception(\"Download incompleto\")\n",
    "                return caminho\n",
    "        except Exception as e:\n",
    "            print(f\"⚠ Erro na tentativa {tentativa}/{tentativas}: {e}\")\n",
    "            sleep(3)  # espera antes de tentar de novo\n",
    "    print(f\"❌ Falha definitiva ao baixar {url}\")\n",
    "    return None\n",
    "\n",
    "\n",
    "def baixar_arquivo(url_zip, destino):\n",
    "    nome_zip = os.path.basename(url_zip)\n",
    "    caminho_zip = os.path.join(destino, nome_zip)\n",
    "\n",
    "    print(f\"🔽 Tentando baixar ZIP: {nome_zip}\")\n",
    "    zip_baixado = baixar_com_retry(url_zip, caminho_zip)\n",
    "\n",
    "    if zip_baixado is None:\n",
    "        # Tenta CSV se ZIP não existir\n",
    "        url_csv = url_zip.replace(\".zip\", \".csv\")\n",
    "        nome_csv = os.path.basename(url_csv)\n",
    "        caminho_csv = os.path.join(destino, nome_csv)\n",
    "        print(f\"🟡 ZIP não encontrado, tentando CSV: {nome_csv}\")\n",
    "\n",
    "        csv_baixado = baixar_com_retry(url_csv, caminho_csv)\n",
    "        if csv_baixado:\n",
    "            print(f\"✔ Download concluído (CSV): {nome_csv}\\n\")\n",
    "        else:\n",
    "            print(f\"❌ Nenhum arquivo encontrado para {nome_zip}\\n\")\n",
    "        return\n",
    "\n",
    "    # Se o ZIP foi baixado, tenta extrair\n",
    "    try:\n",
    "        with zipfile.ZipFile(caminho_zip, \"r\") as zip_ref:\n",
    "            zip_ref.extractall(destino)\n",
    "        print(f\"📦 Arquivo extraído: {nome_zip}\\n\")\n",
    "        os.remove(caminho_zip)\n",
    "    except Exception as e:\n",
    "        print(f\"❌ Erro ao extrair {nome_zip}: {e}\\n\")\n",
    "\n",
    "\n",
    "def baixar_arquivos(urls, destino):\n",
    "    for url in urls:\n",
    "        nome_arquivo = os.path.basename(url)\n",
    "        print(f\"Baixando {nome_arquivo}...\")\n",
    "        baixar_arquivo(url, destino)\n",
    "\n",
    "baixar_arquivos(urls, pasta_destino)\n"
   ]
  }
 ],
 "metadata": {
  "kernelspec": {
   "display_name": "base",
   "language": "python",
   "name": "python3"
  },
  "language_info": {
   "codemirror_mode": {
    "name": "ipython",
    "version": 3
   },
   "file_extension": ".py",
   "mimetype": "text/x-python",
   "name": "python",
   "nbconvert_exporter": "python",
   "pygments_lexer": "ipython3",
   "version": "3.13.5"
  }
 },
 "nbformat": 4,
 "nbformat_minor": 5
}
