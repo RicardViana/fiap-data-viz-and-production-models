{
 "cells": [
  {
   "cell_type": "markdown",
   "id": "89d6ca84",
   "metadata": {},
   "source": [
    "#### **Análise de negócios**"
   ]
  },
  {
   "cell_type": "markdown",
   "id": "4580d69f",
   "metadata": {},
   "source": [
    "#### **Observações**"
   ]
  },
  {
   "cell_type": "markdown",
   "id": "dd59115f",
   "metadata": {},
   "source": [
    "#### **Conteúdo - Bases e Notebook da aula**\n",
    "\n",
    "Github:  \n",
    "\n",
    "https://github.com/FIAP/Pos_Tech_DTAT/tree/Analise-de-Negocios/Analise%20de%20Negocios  \n",
    "\n",
    "Série Histórica de Preços de Combustíveis e de GLP:  \n",
    "\n",
    "https://www.gov.br/anp/pt-br/centrais-de-conteudo/dados-abertos/serie-historica-de-precos-de-combustiveis"
   ]
  },
  {
   "cell_type": "markdown",
   "id": "a770d68e",
   "metadata": {},
   "source": [
    "#### **Importação de pacotes e bibliotecas**"
   ]
  },
  {
   "cell_type": "code",
   "execution_count": null,
   "id": "d7e53e7c",
   "metadata": {},
   "outputs": [],
   "source": [
    "# Importar biblioteca completa\n",
    "import pandas as pd\n",
    "import os\n",
    "import requests\n",
    "import zipfile\n",
    "from time import sleep\n",
    "\n",
    "# Importar algo especifico de uma biblioteca\n",
    "from dotenv import load_dotenv"
   ]
  },
  {
   "cell_type": "markdown",
   "id": "21512f93",
   "metadata": {},
   "source": [
    "#### **Funções (def)**"
   ]
  },
  {
   "cell_type": "code",
   "execution_count": null,
   "id": "a0ca2834",
   "metadata": {},
   "outputs": [],
   "source": [
    "# Função para baixar com validação\n",
    "\n",
    "def baixar_com_retry(url, caminho, tentativas=3):\n",
    "\n",
    "    for tentativa in range(1, tentativas + 1):\n",
    "        try:\n",
    "            with requests.get(url, stream=True, timeout=120) as r:\n",
    "                if r.status_code == 404:\n",
    "                    return None\n",
    "                \n",
    "                r.raise_for_status()\n",
    "                total = int(r.headers.get('content-length', 0))\n",
    "                baixado = 0\n",
    "\n",
    "                with open(caminho, \"wb\") as f:\n",
    "                    for chunk in r.iter_content(chunk_size=8192):\n",
    "                        if chunk:\n",
    "                            f.write(chunk)\n",
    "                            baixado += len(chunk)\n",
    "\n",
    "                if total > 0 and baixado < total * 0.9:\n",
    "                    raise Exception(\"Download incompleto\")\n",
    "                return caminho\n",
    "            \n",
    "        except Exception as e:\n",
    "            print(f\"⚠ Erro na tentativa {tentativa}/{tentativas}: {e}\")\n",
    "            sleep(3)\n",
    "\n",
    "    print(f\"❌ Falha definitiva ao baixar {url}\")\n",
    "    return None"
   ]
  },
  {
   "cell_type": "code",
   "execution_count": null,
   "id": "9da1dc43",
   "metadata": {},
   "outputs": [],
   "source": [
    "# Função para baixar arquivo\n",
    "\n",
    "def baixar_arquivo(url_zip, destino):\n",
    "    nome_zip = os.path.basename(url_zip)\n",
    "    caminho_zip = os.path.join(destino, nome_zip)\n",
    "    print(f\"🔽 Tentando baixar ZIP: {nome_zip}\")\n",
    "    zip_baixado = baixar_com_retry(url_zip, caminho_zip)\n",
    "\n",
    "    if zip_baixado is None:\n",
    "        url_csv = url_zip.replace(\".zip\", \".csv\")\n",
    "        nome_csv = os.path.basename(url_csv)\n",
    "        caminho_csv = os.path.join(destino, nome_csv)\n",
    "        print(f\"🟡 ZIP não encontrado, tentando CSV: {nome_csv}\")\n",
    "\n",
    "        csv_baixado = baixar_com_retry(url_csv, caminho_csv)\n",
    "\n",
    "        if csv_baixado:\n",
    "            print(f\"✔ Download concluído (CSV): {nome_csv}\\n\")\n",
    "        else:\n",
    "            print(f\"❌ Nenhum arquivo encontrado para {nome_zip}\\n\")\n",
    "        return\n",
    "\n",
    "    try:\n",
    "        with zipfile.ZipFile(caminho_zip, \"r\") as zip_ref:\n",
    "            zip_ref.extractall(destino)\n",
    "        print(f\"📦 Arquivo extraído: {nome_zip}\\n\")\n",
    "        os.remove(caminho_zip)\n",
    "        \n",
    "    except Exception as e:\n",
    "        print(f\"❌ Erro ao extrair {nome_zip}: {e}\\n\")"
   ]
  },
  {
   "cell_type": "code",
   "execution_count": null,
   "id": "4d27a127",
   "metadata": {},
   "outputs": [],
   "source": [
    "def baixar_arquivos(urls, destino):\n",
    "    for url in urls:\n",
    "        nome_arquivo = os.path.basename(url)\n",
    "        print(f\"Baixando {nome_arquivo}...\")\n",
    "        baixar_arquivo(url, destino)"
   ]
  },
  {
   "cell_type": "markdown",
   "id": "1f06d05d",
   "metadata": {},
   "source": [
    "#### **Credenciais**"
   ]
  },
  {
   "cell_type": "code",
   "execution_count": null,
   "id": "42a0ff19",
   "metadata": {},
   "outputs": [],
   "source": [
    "load_dotenv()\n",
    "\n",
    "# Credenciais do PostgreSQL\n",
    "usuario_pg = os.getenv(\"POSTGRES_USER\")\n",
    "senha_pg = os.getenv(\"POSTGRES_PASSWORD\")\n",
    "host_pg = os.getenv(\"POSTGRES_HOST\")\n",
    "porta_pg = os.getenv(\"POSTGRES_PORT\")\n",
    "banco_pg = os.getenv(\"POSTGRES_DB\")"
   ]
  },
  {
   "cell_type": "markdown",
   "id": "3d70f28a",
   "metadata": {},
   "source": [
    "#### **Aula 1 - Processos e formas de análise**"
   ]
  },
  {
   "cell_type": "markdown",
   "id": "dc4ed4ab",
   "metadata": {},
   "source": [
    "#### **Aula 2 - Ligação com bancos de dados**"
   ]
  },
  {
   "cell_type": "code",
   "execution_count": null,
   "id": "c201d07d",
   "metadata": {},
   "outputs": [],
   "source": [
    "# Exportar os dados da ANP \n",
    "\n",
    "anos = range(2004, 2025)\n",
    "periodos = [\"01\", \"02\"]\n",
    "base_url = \"https://www.gov.br/anp/pt-br/centrais-de-conteudo/dados-abertos/arquivos/shpc/dsas/ca/\"\n",
    "pasta_destino = \"combustiveis_automotivos\"\n",
    "\n",
    "os.makedirs(pasta_destino, exist_ok=True)\n",
    "\n",
    "urls = []\n",
    "for ano in anos:\n",
    "    for p in periodos:\n",
    "        if ano == 2022 and p == \"01\":\n",
    "            urls.append(f\"{base_url}precos-semestrais-ca.zip\")\n",
    "        else:\n",
    "            urls.append(f\"{base_url}ca-{ano}-{p}.zip\")\n",
    "\n",
    "baixar_arquivos(urls, pasta_destino)"
   ]
  }
 ],
 "metadata": {
  "kernelspec": {
   "display_name": "base",
   "language": "python",
   "name": "python3"
  },
  "language_info": {
   "codemirror_mode": {
    "name": "ipython",
    "version": 3
   },
   "file_extension": ".py",
   "mimetype": "text/x-python",
   "name": "python",
   "nbconvert_exporter": "python",
   "pygments_lexer": "ipython3",
   "version": "3.13.5"
  }
 },
 "nbformat": 4,
 "nbformat_minor": 5
}
